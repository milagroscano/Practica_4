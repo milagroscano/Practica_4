{
  "nbformat": 4,
  "nbformat_minor": 0,
  "metadata": {
    "colab": {
      "provenance": []
    },
    "kernelspec": {
      "name": "ir",
      "display_name": "R"
    },
    "language_info": {
      "name": "R"
    }
  },
  "cells": [
    {
      "cell_type": "markdown",
      "source": [
        "#Google Colab\n",
        "\n",
        "\n",
        "R y Markdown en Colab/Jupyter"
      ],
      "metadata": {
        "id": "a4MJl03t1ehZ"
      }
    },
    {
      "cell_type": "markdown",
      "source": [
        "##Tipos de celdas y como ejecutarlas"
      ],
      "metadata": {
        "id": "hDt0ZLL75sIg"
      }
    },
    {
      "cell_type": "markdown",
      "source": [
        "Esto es una línea de texto (--> Hacer doble click sobre este celda para editarla <--)"
      ],
      "metadata": {
        "id": "gTPQAm39B3Or"
      }
    },
    {
      "cell_type": "code",
      "source": [
        "#Esto es una línea de código\n",
        "print(\"Hola mundo!\")"
      ],
      "metadata": {
        "id": "ygc199bQ5rc0"
      },
      "execution_count": null,
      "outputs": []
    },
    {
      "cell_type": "markdown",
      "source": [
        "## Nucleo/entorno de ejecución\n",
        "\n",
        "Google Colab utiliza como entorno de ejecución Python (versión 3) y de R sobre diferentes configuraciones del equipo, como CPU o que posea además algún acelerador (utilizando GPU o TPU).\n",
        "\n",
        "Existe un límite de tiempo de uso del servicio de Colab (unas 12 horas corridas), 100 GB almacenamiento (durante la duración de la conexión) y 12 GB de RAM. Recuerden que es una Maquina Virtual, después de la finalización de la sesión se pierden los contenidos guardados (datos y variables). Solo quedan las salidas de las celdas de ejecución.\n",
        "\n",
        "Sin embargo, tanto el uso de aceleradores como los límites indicados solo se\n",
        "tornan relevantes para el caso de códigos muy complejos. No es necesario\n",
        "preocuparse por ellos para el caso de desarrollar códigos simples.\n",
        "\n",
        "\\\n",
        "**A tener en cuenta!!!**\n",
        "\n",
        "Puede ocurrir que nos pongamos a realizar otra cosa o nos fuimos a hacer a algo, y la sesión quedó abierta. Lo que ocurre es después de un tiempo de inactividad la sesión se cae. Cuando retomemos la sesión clikeando en **Reconectar**, abajo del botón \"Compartir\", suele (¡Tengan cuidado!) que los archivos que teniamos cargados se quedan aún en el entorno por lo que no es necesario volverlo a cargar.\n",
        "\n",
        "\\\n",
        "En la barra de herramientas arriba de la notebook hacia la izquierda encontraran la solapa \"Editar\", dentro de llega tienen la opción de **Configuración del Notebook**. Aca es donde pueden modificar el entorno de ejecución (Python o R) y los aceleradores que deseamos utilizar (CPU, GPU, TPU)."
      ],
      "metadata": {
        "id": "-gM7Vcoq4d54"
      }
    },
    {
      "cell_type": "markdown",
      "source": [
        "## Añadiendo celdas\n",
        "Para añadir nuevas celdas usando los botones **+ Código** and **+ Texto** que se muestran cuando pasamos el mouse entre las celdas. Estos botones se encuentran también en la barra de herramientas sobre la notebook, se añadiran debajo de la celda seleccionada.\n",
        "\n",
        "Se pueden mover una seleccionandola y haciendo click en **Mover celda hacia arriba** ⇑ o **Mover celda hacia abajo** ⇓\n",
        "\n",
        "\n",
        "Prueben con la celda de abajo:"
      ],
      "metadata": {
        "id": "itQFrk0g0y76"
      }
    },
    {
      "cell_type": "code",
      "source": [],
      "metadata": {
        "id": "5-KZGcDi21JN"
      },
      "execution_count": null,
      "outputs": []
    },
    {
      "cell_type": "markdown",
      "source": [
        "##Estética de las notebook\n",
        "\n",
        "En el engranaje al lado de nuestro perfil, encontraremos las configuraciones de aspecto para la notebook (además de Colab Pro y Github)\n",
        "- En **sitio/site** veran pueden configurar el tema de la notebook.\n",
        "- En **editor** tienen las opciones para configurar la fuente de texto en el código, cómo demás artilugios relacionados con su estructura.\n",
        "- En **varios/miscellaneous** pueden poner perros, gatitos y cangrejos caminando arriba de la notebook y en Nivel de Poder/Power Level un motivación para codear rápido.\n",
        "\n",
        "##Referencias\n",
        "\n",
        "* <a href=\"https://colab.research.google.com/?hl=es#scrollTo=lSrWNr3MuFUS\">Bienvenida a Colab</a>.\n",
        "* <a href=\"https://colab.research.google.com/notebooks/basic_features_overview.ipynb#scrollTo=_YrTcK7k22Fp\">Características</a>.\n",
        "* <a href=\"https://colab.research.google.com/notebooks/markdown_guide.ipynb\"> Guía de Markdown en Colab</a>.\n",
        "* <a href=\"https://colab.research.google.com/github/googlecolab/colabtools/blob/main/notebooks/colab-github-demo.ipynb#scrollTo=8QAWNjizy_3O\">Github</a>\n",
        "* <a href=\"https://nbviewer.org/github/ipython/ipython/blob/1.x/examples/notebooks/Cell%20Magics.ipynb\">Jupyter Magics</a> (solo Python)\n",
        "* <a href=\"https://fcaglp.unlp.edu.ar/~gbaume/grupo/Publicaciones/Apuntes/GoogleColab.pdf\">Apunte</a>"
      ],
      "metadata": {
        "id": "o0BcHeSSo-ZD"
      }
    },
    {
      "cell_type": "markdown",
      "source": [
        "#Trabajando con fechas con la libreria Lubridate"
      ],
      "metadata": {
        "id": "hcL7OWNR8R-y"
      }
    },
    {
      "cell_type": "code",
      "source": [
        "install.packages(\"lubridate\")\n",
        "library(lubridate)"
      ],
      "metadata": {
        "id": "0vvp8XTlNJQh"
      },
      "execution_count": null,
      "outputs": []
    },
    {
      "cell_type": "markdown",
      "source": [
        "Vamos a definir una fecha y horario completo para manipularla con la función ymd_hms(fecha).\n",
        "\n",
        "Ingresen la fecha de nacimiento de ustedes en el formato **\"YYYY-MM-DD HH-mm-ss\"\"** e impriman la clase a la que corresponde:"
      ],
      "metadata": {
        "id": "ELps6azLNUBM"
      }
    },
    {
      "cell_type": "code",
      "source": [
        "fecha_nacimiento <- ymd_hms(\"1996-10-17 12:00:00\")\n",
        "fecha_nacimiento\n",
        "\n",
        "class(fecha_nacimiento)"
      ],
      "metadata": {
        "id": "VmoLhRqc82C_"
      },
      "execution_count": null,
      "outputs": []
    },
    {
      "cell_type": "markdown",
      "source": [
        "'POSIXct' (ct -> CommonTime) es una representación interna de R para guardar fechas y horas. A grandes rasgos es una codificación en su parte entera de la fecha, y en los decimales la parte de la hora."
      ],
      "metadata": {
        "id": "5IWKyL2fOZ-9"
      }
    },
    {
      "cell_type": "markdown",
      "source": [
        "Prueben de utilizar las funciones **year()**, **month()**, **day()**, **hour()**, **minute()**, **second()** sobre la variable de fecha que definimos, y vean que les devuelve."
      ],
      "metadata": {
        "id": "ZWAstaydH7xx"
      }
    },
    {
      "cell_type": "code",
      "source": [],
      "metadata": {
        "id": "ldg5u7T_JSEf"
      },
      "execution_count": null,
      "outputs": []
    },
    {
      "cell_type": "markdown",
      "source": [
        "##Duraciones\n",
        "\n",
        "Existe una gama de funciones llamadas de forma similar a las anteriores llamadas duraciones. A un conjunto se la escribe en plural y a otro conjunto adicionalmente a esto, se le agrega una \"d\" adelante de la duración. Si se le sumo un año a mi variable fecha. ¿Qué me devuelve?. Luego prueben de sumar 1.5 años **(No la guarden o guardenlas en un variable nueva)**\n",
        "\n",
        "* year( ) ⇒ years( ) | dyears( )\n",
        "* month( ) ⇒ months( ) | dmonths( )\n",
        "* day( ) ⇒ days( ) | ddays( )\n",
        "* hour( ) ⇒ hours( ) | dhours( )\n",
        "* minute( ) ⇒ minutes( ) | dminutes( )\n",
        "* second( ) ⇒ seconds( ) | dseconds( )"
      ],
      "metadata": {
        "id": "UPSWjArt0CmB"
      }
    },
    {
      "cell_type": "code",
      "source": [],
      "metadata": {
        "id": "HXzJJ4SooTNi"
      },
      "execution_count": null,
      "outputs": []
    },
    {
      "cell_type": "markdown",
      "source": [
        "Impriman years(1) e dyears(1)"
      ],
      "metadata": {
        "id": "GEDJTPANs3gK"
      }
    },
    {
      "cell_type": "markdown",
      "source": [
        "### Calculando diferencias entre tiempos\n",
        "\n",
        "Queremos tener el tiempo de este momento, podemos utilizar la función **now()** de lubridate que nos da la fecha y el horario del momento en que se ejecuta la línea de código.\n",
        "\n",
        "Definan la variable con now, ejecuten la variable sola y luego imprimanla por pantalla con **print** que diga algún mensaje del estilo \"El tiempo actual es: \", ¿Les devuelve lo mismo?."
      ],
      "metadata": {
        "id": "qnplzNIKIol3"
      }
    },
    {
      "cell_type": "code",
      "source": [],
      "metadata": {
        "id": "ycIvURNhgnN_"
      },
      "execution_count": null,
      "outputs": []
    },
    {
      "cell_type": "markdown",
      "source": [
        "###Formato\n",
        "\n",
        "Para cambiar el formato de las variables de tipo fecha podemos utilizar **format()**. Es muy útil para utilizar las fechas en el formato que deseemos por ejemplo:\n",
        "\n",
        "* fecha_formato1 <- format(fecha, %d/%m/%Y %H%M%S) #Formato dd/mm/YYYY HHMMSS.\n",
        "* fecha_formato2 <- format(fecha, tz=\"\"), sigue siendo UTC, pero le sacamos que diga UTC.\n",
        "* fecha_formato3 <- format(fecha, \"%A, %d de %B de %Y\"), Wednesday, 14 de July de 2023 (Ejemplo).\n",
        "\n",
        "Prueben este formato para corregir lo que nos ocurre cuando lo usamos en un print en un mensaje."
      ],
      "metadata": {
        "id": "KMCOOd5XRQqn"
      }
    },
    {
      "cell_type": "code",
      "source": [],
      "metadata": {
        "id": "0iON-gbhRQ9p"
      },
      "execution_count": null,
      "outputs": []
    },
    {
      "cell_type": "markdown",
      "source": [
        "###Diferencia de tiempo\n",
        "\n",
        "Con la función **difftime(fecha_ini, fecha_fin, , units = \"days\")**, podemos calcular cuanta distancia temporal exiten entre dos variables de tiempo.\n",
        "\n",
        "Queremos conocer cuanto tiempo paso entre que nacieron y este momento."
      ],
      "metadata": {
        "id": "JYGSRSKsQ_iA"
      }
    },
    {
      "cell_type": "code",
      "source": [
        "diferencia <- difftime(Ahora, fecha_nacimiento, units = \"days\")\n",
        "diferencia"
      ],
      "metadata": {
        "colab": {
          "base_uri": "https://localhost:8080/",
          "height": 34
        },
        "id": "0SeTTHl_Q-lI",
        "outputId": "c4da3ce5-5af1-4bd5-aed5-25ad3830dbab"
      },
      "execution_count": null,
      "outputs": [
        {
          "output_type": "display_data",
          "data": {
            "text/plain": [
              "Time difference of 9869.406 days"
            ]
          },
          "metadata": {}
        }
      ]
    },
    {
      "cell_type": "markdown",
      "source": [
        "###Practiquen\n",
        "\n",
        "¿Qué día de su vida será el 10000 de su vida? ¿Cuánto tiempo falta para eso?"
      ],
      "metadata": {
        "id": "yJGl1evvu2F7"
      }
    },
    {
      "cell_type": "code",
      "source": [],
      "metadata": {
        "id": "ZE325zRsypwF"
      },
      "execution_count": null,
      "outputs": []
    },
    {
      "cell_type": "markdown",
      "source": [
        "#NetCDF\n",
        "\n",
        "NetCDF (Network Common Data Form) es un conjunto de bibliotecas de software y formatos de datos independientes de la máquina que permiten crear, acceder y compartir datos científicos orientados a matrices. También es un estándar comunitario para compartir datos científicos.\n",
        "\n",
        "El Centro de Programas <a href=\"https://www.unidata.ucar.edu/\">Unidata</a> soporta y mantiene interfaces de programación netCDF para C, C++, Java y Fortran. También hay disponibles interfaces de programación para Python, IDL, MATLAB, **R**, Ruby y Perl.\n",
        "\n",
        "##Características\n",
        "- **Autodescrito**. Un archivo netCDF incluye información sobre el que contiene.\n",
        "\n",
        "- **Portátil**. Un archivo netCDF se puede acceder por computadoras con diferentes maneras de almacenar números enteros, caracteres y punto flotante.\n",
        "\n",
        "- **Escalable**. A través de las interfaces netCDF se puede acceder eficazmente a pequeños subconjuntos de grandes conjuntos de datos en diversos formatos, incluso desde servidores remotos.\n",
        "\n",
        "- **Anexables**. Los datos pueden añadirse a un archivo netCDF correctamente estructurado sin copiar el conjunto de datos ni redefinir su estructura.\n",
        "\n",
        "- **Compartible**. Un escritor y varios lectores pueden acceder simultáneamente al mismo archivo netCDF.\n",
        "\n",
        "- **Archivable**. El acceso a todas las formas anteriores de netCDF serán compatibles con las versiones y futuras versiones del software.\n",
        "\n",
        "Más info ⇒ <a href=\"https://www.unidata.ucar.edu/publications/factsheets/current/factsheet_netcdf.pdf\">factsheets netCDF</a>."
      ],
      "metadata": {
        "id": "FI0oJz2CsDpl"
      }
    },
    {
      "cell_type": "markdown",
      "source": [
        "#Ejercicio\n",
        "\n",
        "Instalamos y llamos a las librerias que vamos a utilizar. Lubridate ya la tenemos a disposición."
      ],
      "metadata": {
        "id": "ifwiW3z8Um-v"
      }
    },
    {
      "cell_type": "code",
      "execution_count": null,
      "metadata": {
        "id": "06UzKShaTFrT"
      },
      "outputs": [],
      "source": [
        "rm(list=ls())\n",
        "install.packages(\"ncdf4\")\n",
        "library(ncdf4)"
      ]
    },
    {
      "cell_type": "markdown",
      "source": [
        "##Descargamos un archivo NCDF\n",
        "Vamos a utilizar la función intríseca \"**download.file(url,destino)**\" de R para hacerlo. Esto nos dará un archivo de tipo .zip que luego utilizaremos la función ***unzip*** para abri dicho archivo.\n",
        "\n",
        "En este caso trabajaremos con datos de estimaciones de precipitación horarios, que es un producto disponible en el Center for Hydrometeorology and Remote Sensing (CHRS), ver <a href=\"http://chrsdata.eng.uci.edu/\">link</a>."
      ],
      "metadata": {
        "id": "vxro-sbYrn70"
      }
    },
    {
      "cell_type": "code",
      "source": [
        "url <- \"https://chrsdata.eng.uci.edu/userFile/PERSIANN-PDIR/sergiohgonzalezxmwimL.zip\"\n",
        "nombre_datos <- \"Datos_PERSIANN_PDIR.zip\"\n",
        "\n",
        "download.file(url, paste0(\"/content/\",nombre_datos))"
      ],
      "metadata": {
        "id": "H7t6aZSnLJCJ"
      },
      "execution_count": null,
      "outputs": []
    },
    {
      "cell_type": "code",
      "source": [
        "unzip(\"/content/Datos_PERSIANN_PDIR.zip\", exdir = \"/content/\")"
      ],
      "metadata": {
        "id": "0SSQz6eQLN1w"
      },
      "execution_count": null,
      "outputs": []
    },
    {
      "cell_type": "markdown",
      "source": [
        "## Miremos cuantos archivos tenemos"
      ],
      "metadata": {
        "id": "brcoP6eSeNqZ"
      }
    },
    {
      "cell_type": "code",
      "source": [
        "files <- list.files(\"/content/\") #Esta función me lista los archivos que se encuentran en la carpeta de destino que le indico\n",
        "files"
      ],
      "metadata": {
        "id": "geNHICfieNQ7"
      },
      "execution_count": null,
      "outputs": []
    },
    {
      "cell_type": "markdown",
      "source": [
        "Miremos uno de los archivos NCDF, y lo abrimos con la función nc_open. Como vieron en la teórica y lo que más van a utilizar es si van a permitir o no la escritura del archivo, que lo determinan con el argumento **write**.\n",
        "\n",
        "\\\n",
        "***nc_open( filename, write=FALSE, readunlim=TRUE, verbose=FALSE, auto_GMT=TRUE, suppress_dimvals=FALSE, return_on_error=FALSE )***"
      ],
      "metadata": {
        "id": "gYHb2sk4b6H4"
      }
    },
    {
      "cell_type": "code",
      "source": [
        "datos_PERSIANN <- nc_open(filename = paste0(\"/content/\", files[3]) )"
      ],
      "metadata": {
        "id": "6mKz2nv2qZO0"
      },
      "execution_count": null,
      "outputs": []
    },
    {
      "cell_type": "markdown",
      "source": [
        "Veamos que hay dentro de estos archivos, esto se puede saber llamando al archivo NCDF por pantalla (como vamos a hacer) o mirar la documentación de donde vienen los datos."
      ],
      "metadata": {
        "id": "sFthSoZlgXGX"
      }
    },
    {
      "cell_type": "code",
      "source": [
        "datos_PERSIANN"
      ],
      "metadata": {
        "id": "MU5NWViha4c4"
      },
      "execution_count": null,
      "outputs": []
    },
    {
      "cell_type": "markdown",
      "source": [
        "Observen toda la información que nos da el archivo:\n",
        "- La cantidad de variables.\n",
        "- El tipo de dato de cada variable, su nombre, por cuales dimensiones están conformadas, y las dimensiones.\n",
        "- Las unidades, su nombre estándar y nombre largo, con que tipo de reticulado están definidos y en que coordenadas están cada variable.\n",
        "- Las específicaciones de las dimensiones de los datos.\n",
        "- Atributos globales, estos son datos de configuración del modelo.\n",
        "\n",
        "Si queremos extraer uno de los datos podemos utilizar la función ***ncvar_get***. Y cerramos el archivo con la función ***nc_close*** , recuerden siempre de cerrar los achivos NCDF que abren y no utilizan más, porque si no llenan la memoria de archivos abiertos."
      ],
      "metadata": {
        "id": "s3t6Wt5ggzK1"
      }
    },
    {
      "cell_type": "code",
      "source": [
        "datos_PP <- ncvar_get(datos_PERSIANN, \"precip\") #Extraemos la precipitación horaria en superficie\n",
        "\n",
        "nc_close(datos_PERSIANN)"
      ],
      "metadata": {
        "id": "_UkHwinGrpRt"
      },
      "execution_count": null,
      "outputs": []
    },
    {
      "cell_type": "markdown",
      "source": [
        "#**Ejercicio**\n",
        "\n",
        "Con los datos que descargaron:\n",
        "\n",
        "* Imprimir por pantalla la precipitación máxima del día en la región y en que horario ocurrió. El mensaje debe estar estructurado de la siguiente manera: \"La precipitacion maxima para el dia dd de mm del YYYY ocurrio a las HH UTC y llovio  de **PP** mm.\"."
      ],
      "metadata": {
        "id": "buCKhstM1A5d"
      }
    },
    {
      "cell_type": "code",
      "source": [],
      "metadata": {
        "id": "GOSJFf9Sy8Vf"
      },
      "execution_count": null,
      "outputs": []
    },
    {
      "cell_type": "markdown",
      "source": [
        "<b>No se olviden de guardar en Github!</b>\n",
        "\n",
        "Van a Archivo ⇒ Guardar una copia en Github. (Les va a pedir usuario y contraseña)\n",
        "\n",
        "Si alguna ves requieren clonar su carpeta en colab puede utilizar los comando de Git de esta manera."
      ],
      "metadata": {
        "id": "P-ps5r030WaD"
      }
    },
    {
      "cell_type": "code",
      "source": [
        "! git clone link #Inserten su link"
      ],
      "metadata": {
        "id": "304TJWEG0V3S"
      },
      "execution_count": null,
      "outputs": []
    }
  ]
}